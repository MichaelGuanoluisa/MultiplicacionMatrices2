{
 "cells": [
  {
   "cell_type": "code",
   "execution_count": 5,
   "id": "9ffab6ff",
   "metadata": {},
   "outputs": [
    {
     "name": "stdout",
     "output_type": "stream",
     "text": [
      "MULTIPLICACION DE MATRICES\n",
      "Ingrese el tamaño de la fila de la primera matriz: 3\n",
      "Ingrese el tamaño de la columna de la primera matriz: 2\n",
      "ingrese el numero en la posicion [0] [0] : 1\n",
      "ingrese el numero en la posicion [0] [1] : 2\n",
      "ingrese el numero en la posicion [1] [0] : 3\n",
      "ingrese el numero en la posicion [1] [1] : 4\n",
      "ingrese el numero en la posicion [2] [0] : 5\n",
      "ingrese el numero en la posicion [2] [1] : 6\n",
      "[[1. 2.]\n",
      " [3. 4.]\n",
      " [5. 6.]]\n",
      "Ingrese el tamaño de la fila de la segunda matriz: 2\n",
      "Ingrese el tamaño de la columna de la segunda matriz: 3\n",
      "ingrese el numero en la posicion [0] [0] : 1\n",
      "ingrese el numero en la posicion [0] [1] : 2\n",
      "ingrese el numero en la posicion [0] [2] : 3\n",
      "ingrese el numero en la posicion [1] [0] : 4\n",
      "ingrese el numero en la posicion [1] [1] : 5\n",
      "ingrese el numero en la posicion [1] [2] : 6\n",
      "[[1. 2. 3.]\n",
      " [4. 5. 6.]]\n",
      "La matriz resultante de la multiplicación de las dos matrices es la siguiente: \n",
      "[[ 9. 12. 15.]\n",
      " [19. 26. 33.]\n",
      " [29. 40. 51.]]\n"
     ]
    }
   ],
   "source": [
    "import numpy as np\n",
    "\n",
    "print(\"MULTIPLICACION DE MATRICES\")\n",
    "\n",
    "n1=int(input(\"Ingrese el tamaño de la fila de la primera matriz: \"))\n",
    "m1=int(input(\"Ingrese el tamaño de la columna de la primera matriz: \"))\n",
    "matriz1 = np.ones((n1,m1))\n",
    "\n",
    "for i in range(0,n1,1):\n",
    "    for j in range(0,m1,1):\n",
    "        matriz1[i][j]=int(input(\"ingrese el numero en la posicion [\"+str(i)+\"] [\"+str(j)+\"] : \"))\n",
    "        \n",
    "print(matriz1)\n",
    "\n",
    "n2=int(input(\"Ingrese el tamaño de la fila de la segunda matriz: \"))\n",
    "m2=int(input(\"Ingrese el tamaño de la columna de la segunda matriz: \"))\n",
    "matriz2 = np.ones((n2,m2))\n",
    "\n",
    "for i in range(0,n2,1):\n",
    "    for j in range(0,m2,1):\n",
    "        matriz2[i][j]=int(input(\"ingrese el numero en la posicion [\"+str(i)+\"] [\"+str(j)+\"] : \"))\n",
    "        \n",
    "print(matriz2)\n",
    "\n",
    "matriz3 = matriz1.dot(matriz2)\n",
    "\n",
    "print(\"La matriz resultante de la multiplicación de las dos matrices es la siguiente: \")\n",
    "print(matriz3)"
   ]
  },
  {
   "cell_type": "code",
   "execution_count": null,
   "id": "3069a57d",
   "metadata": {},
   "outputs": [],
   "source": []
  }
 ],
 "metadata": {
  "kernelspec": {
   "display_name": "Python 3",
   "language": "python",
   "name": "python3"
  },
  "language_info": {
   "codemirror_mode": {
    "name": "ipython",
    "version": 3
   },
   "file_extension": ".py",
   "mimetype": "text/x-python",
   "name": "python",
   "nbconvert_exporter": "python",
   "pygments_lexer": "ipython3",
   "version": "3.9.5"
  }
 },
 "nbformat": 4,
 "nbformat_minor": 5
}
